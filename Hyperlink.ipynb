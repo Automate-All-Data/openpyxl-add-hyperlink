{
 "cells": [
  {
   "cell_type": "code",
   "execution_count": null,
   "id": "533435e2-c11d-43a0-b822-696bf33b2bbf",
   "metadata": {},
   "outputs": [],
   "source": [
    "from openpyxl import load_workbook\n",
    "wb = load_workbook(f'test.xlsx', data_only = True)\n",
    "ws = wb.active"
   ]
  },
  {
   "cell_type": "code",
   "execution_count": null,
   "id": "2427d611-3c0a-4c84-a136-3b0af2b7f516",
   "metadata": {},
   "outputs": [],
   "source": [
    "wb.save(f'test.xlsx')"
   ]
  },
  {
   "cell_type": "code",
   "execution_count": null,
   "id": "74b79bdc-35b5-4972-916b-6f50a920314a",
   "metadata": {},
   "outputs": [],
   "source": [
    "ws['A3'].hyperlink = \"test.xlsx#'Sheet2'!A1\""
   ]
  },
  {
   "cell_type": "code",
   "execution_count": null,
   "id": "4ee59106-dc8b-454c-902c-f2a38115a117",
   "metadata": {},
   "outputs": [],
   "source": [
    "ws['A3'].style = 'Hyperlink'"
   ]
  }
 ],
 "metadata": {
  "kernelspec": {
   "display_name": "Python 3 (ipykernel)",
   "language": "python",
   "name": "python3"
  },
  "language_info": {
   "codemirror_mode": {
    "name": "ipython",
    "version": 3
   },
   "file_extension": ".py",
   "mimetype": "text/x-python",
   "name": "python",
   "nbconvert_exporter": "python",
   "pygments_lexer": "ipython3",
   "version": "3.8.18"
  }
 },
 "nbformat": 4,
 "nbformat_minor": 5
}
